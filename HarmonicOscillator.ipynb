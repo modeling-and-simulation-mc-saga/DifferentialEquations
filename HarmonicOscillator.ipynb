{
 "cells": [
  {
   "cell_type": "code",
   "execution_count": null,
   "metadata": {},
   "outputs": [],
   "source": [
    "import matplotlib.pyplot as plt\n",
    "import math\n",
    "import sys\n",
    "sys.path.append(\"..\\\\lib\")\n",
    "from pylib import pltInit,Point,DataFile"
   ]
  },
  {
   "cell_type": "code",
   "execution_count": null,
   "metadata": {},
   "outputs": [],
   "source": [
    "def drawReault():\n",
    "    plt.figure(figsize=(15,10), facecolor='white')\n",
    "    plt.xlim(0,50)\n",
    "    plt.ylim(-1.2,1.2)\n",
    "    plt.xlabel('$t$')\n",
    "    plt.ylabel('$x$')\n",
    "    plt.title(\"Harmonic Oscillator $\\\\omega=1$\")\n",
    "    x,y = DataFile(\"HarmonicOscillator-output.txt\").readData()\n",
    "    plt.scatter(x,y,s=1)\n",
    "    plt.savefig(\"HarmonicOscillator.pdf\")\n"
   ]
  },
  {
   "cell_type": "code",
   "execution_count": null,
   "metadata": {},
   "outputs": [],
   "source": [
    "pltInit()\n",
    "drawResult()"
   ]
  }
 ],
 "metadata": {
  "kernelspec": {
   "display_name": "myenv",
   "language": "python",
   "name": "python3"
  },
  "language_info": {
   "codemirror_mode": {
    "name": "ipython",
    "version": 3
   },
   "file_extension": ".py",
   "mimetype": "text/x-python",
   "name": "python",
   "nbconvert_exporter": "python",
   "pygments_lexer": "ipython3",
   "version": "3.10.8 | packaged by conda-forge | (main, Nov 22 2022, 08:25:29) [Clang 14.0.6 ]"
  },
  "orig_nbformat": 4,
  "vscode": {
   "interpreter": {
    "hash": "5b50574aca822a4663eeb358827631e5cbe081f130521b0066dec6b864ef6f2f"
   }
  }
 },
 "nbformat": 4,
 "nbformat_minor": 2
}
