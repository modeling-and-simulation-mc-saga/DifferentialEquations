{
 "cells": [
  {
   "cell_type": "code",
   "execution_count": null,
   "metadata": {},
   "outputs": [],
   "source": [
    "import matplotlib.pyplot as plt\n",
    "import math\n",
    "import sys\n",
    "sys.path.append(\"..\\\\lib\")\n",
    "from pylib import pltInit,Point,DataFile"
   ]
  },
  {
   "cell_type": "code",
   "execution_count": null,
   "metadata": {},
   "outputs": [],
   "source": [
    "def plotSynch():\n",
    "    fig,ax =plt.subplots(2,1,figsize=(18,12), facecolor='white',sharex=True)\n",
    "    kList=[5,0]\n",
    "    for k,a in enumerate(ax):\n",
    "        a.set_ylim(-1.2,1.2)\n",
    "        a.set_xlim(0,10000)\n",
    "        a.set_ylabel(\"$\\\\sin\\\\theta$\")\n",
    "        a.set_xlabel('$t$')\n",
    "        v = kList[k]\n",
    "        filename = f'Kuramoto-{v}.0-output.txt'\n",
    "        for l in range(2,5):\n",
    "            x,y=DataFile(filename).readData(y=l)\n",
    "            a.plot(x,y)\n",
    "        s = f'$k={v}$'\n",
    "        a.text(2000,1.,s)\n",
    "    plt.savefig('kuramoto.pdf')\n"
   ]
  },
  {
   "cell_type": "code",
   "execution_count": null,
   "metadata": {},
   "outputs": [],
   "source": [
    "def plotSynch2(filename:str):\n",
    "    plt.figure(figsize=(18,12), facecolor='white')\n",
    "    plt.xlim(0,5000)\n",
    "    plt.ylim(0,1)\n",
    "    plt.xlabel('$t$')\n",
    "    plt.ylabel('$\\\\vert R\\\\vert$')\n",
    "    plt.title('$R=\\\\frac{1}{N}\\\\Sigma_{i}e^{i\\\\theta_i}$')\n",
    "    input = filename+'-output.txt'\n",
    "    x,y=DataFile(input).readData()\n",
    "    plt.plot(x,y)\n",
    "    output = filename +'.pdf'\n",
    "    plt.savefig(output)"
   ]
  },
  {
   "cell_type": "code",
   "execution_count": null,
   "metadata": {},
   "outputs": [],
   "source": [
    "pltInit()\n",
    "plotSynch()\n",
    "plotSynch2('KuramotoObservation-5.0')"
   ]
  }
 ],
 "metadata": {
  "kernelspec": {
   "display_name": "myenv",
   "language": "python",
   "name": "python3"
  },
  "language_info": {
   "codemirror_mode": {
    "name": "ipython",
    "version": 3
   },
   "file_extension": ".py",
   "mimetype": "text/x-python",
   "name": "python",
   "nbconvert_exporter": "python",
   "pygments_lexer": "ipython3",
   "version": "3.10.8 | packaged by conda-forge | (main, Nov 22 2022, 08:16:33) [MSC v.1929 64 bit (AMD64)]"
  },
  "orig_nbformat": 4,
  "vscode": {
   "interpreter": {
    "hash": "b3b804b6b7a7d9b475cf928428dd1242016eacc24c47853aaf0f8d1d2228aa39"
   }
  }
 },
 "nbformat": 4,
 "nbformat_minor": 2
}
