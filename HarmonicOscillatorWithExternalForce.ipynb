{
 "cells": [
  {
   "cell_type": "code",
   "execution_count": null,
   "metadata": {},
   "outputs": [],
   "source": [
    "import matplotlib.pyplot as plt\n",
    "import math\n",
    "import sys\n",
    "sys.path.append(\"..\\\\lib\")\n",
    "from pylib import pltInit,Point,DataFile"
   ]
  },
  {
   "cell_type": "code",
   "execution_count": null,
   "metadata": {},
   "outputs": [],
   "source": [
    "def plot(filename:str,text:str,setYlim=True):\n",
    "    input = filename+'-output.txt'\n",
    "    x,y = DataFile(input).readData()\n",
    "\n",
    "    plt.figure(figsize=(12,8),facecolor='white')\n",
    "    plt.xlabel('$t$')\n",
    "    plt.ylabel('$x$')\n",
    "    plt.xlim(0,200)\n",
    "    if setYlim:\n",
    "        plt.ylim(-1.2,1.2)\n",
    "        plt.text(1,1.1,text)\n",
    "    else:\n",
    "        plt.text(1,1.5,text)\n",
    "    plt.scatter(x,y,s=1)\n",
    "    output = filename+'.pdf'\n",
    "    plt.savefig(output)"
   ]
  },
  {
   "cell_type": "code",
   "execution_count": null,
   "metadata": {},
   "outputs": [],
   "source": [
    "dataList=[\n",
    "    (\"HarmonicOscillatorWithExternalForce-0.01omega\",\"$\\\\gamma=0.01\\\\omega, f=0.1$\",True),\n",
    "    (\"HarmonicOscillatorWithExternalForce-100omega\",\"$\\\\gamma=100\\\\omega, f=0.1$\",True),\n",
    "    (\"HarmonicOscillatorWithExternalForce-omega-0.01\",\"$\\\\gamma=\\\\omega+0.01, f=0.1$\",False),\n",
    "    (\"HarmonicOscillatorWithExternalForce-omega-0.1\",\"$\\\\gamma=\\\\omega+0.1, f=0.1$\",False)\n",
    "]\n",
    "pltInit()\n",
    "for f,t,k in dataList:\n",
    "    plot(f,t,k)\n"
   ]
  }
 ],
 "metadata": {
  "kernelspec": {
   "display_name": "myenv",
   "language": "python",
   "name": "python3"
  },
  "language_info": {
   "codemirror_mode": {
    "name": "ipython",
    "version": 3
   },
   "file_extension": ".py",
   "mimetype": "text/x-python",
   "name": "python",
   "nbconvert_exporter": "python",
   "pygments_lexer": "ipython3",
   "version": "3.10.8 | packaged by conda-forge | (main, Nov 22 2022, 08:25:29) [Clang 14.0.6 ]"
  },
  "orig_nbformat": 4,
  "vscode": {
   "interpreter": {
    "hash": "5b50574aca822a4663eeb358827631e5cbe081f130521b0066dec6b864ef6f2f"
   }
  }
 },
 "nbformat": 4,
 "nbformat_minor": 2
}
