{
 "cells": [
  {
   "cell_type": "code",
   "execution_count": null,
   "metadata": {},
   "outputs": [],
   "source": [
    "import matplotlib.pyplot as plt\n",
    "import math\n",
    "import sys\n",
    "sys.path.append(\"..\\\\lib\")\n",
    "from pylib import pltInit,Point,DataFile"
   ]
  },
  {
   "cell_type": "code",
   "execution_count": null,
   "metadata": {},
   "outputs": [],
   "source": [
    "def plotRaw(outputFile:str):\n",
    "    \"\"\"\n",
    "    drawing raw data\n",
    "    \"\"\"\n",
    "    plt.figure(figsize=(18,12),facecolor='white')\n",
    "    plt.xlim(0,35)\n",
    "    plt.ylim(0,40)\n",
    "    plt.xlabel('$t$')\n",
    "    plt.ylabel('$x$')\n",
    "    plt.title('$k/m=1,(x(0),v(0))=((1,0),(2,0),(-1,0)),b=10$')\n",
    "    for k in range(3):\n",
    "        p = 1+k\n",
    "        x,y=DataFile('CoupledOscillators-z-output.txt').readData(y=p)\n",
    "        z = [v+10*k+10 for v in y]\n",
    "        label=f'$x_{k}$'\n",
    "        plt.plot(x,z,label=label)\n",
    "    plt.legend()\n",
    "    plt.savefig(outputFile)"
   ]
  },
  {
   "cell_type": "code",
   "execution_count": null,
   "metadata": {},
   "outputs": [],
   "source": [
    "def plotNormal(outputFile:str):\n",
    "    \"\"\"\n",
    "    drawing results by converting to normal mode\n",
    "    \"\"\"\n",
    "    plt.figure(figsize=(18,12),facecolor='white')\n",
    "    plt.xlim(0,35)\n",
    "    plt.ylim(0,40)\n",
    "    plt.xlabel('$t$')\n",
    "    plt.ylabel('$x$')\n",
    "    plt.title('Normal modes')\n",
    "    yList = []\n",
    "    for k in range(3):\n",
    "        p = 1+k\n",
    "        x,y=DataFile('CoupledOscillators-z-output.txt').readData(y=p)\n",
    "        yList.append(y)\n",
    "    zList = [[],[],[]]\n",
    "    for k in range(len(x)):\n",
    "        zList[0].append(10+math.sqrt(2)/2*(yList[0][k]-yList[2][k]))\n",
    "        zList[1].append(20+1/2*(yList[0][k]+math.sqrt(2)*yList[1][k]+yList[2][k]))\n",
    "        zList[2].append(30+1/2*(yList[0][k]-math.sqrt(2)*yList[1][k]+yList[2][k]))\n",
    "    for z in zList:\n",
    "        plt.plot(x,z)\n",
    "    plt.text(5,5,'$\\\\frac{\\\\sqrt{2}}{2}(y_0-y_2),\\\\omega^2=2\\\\frac{k}{m}$')\n",
    "    plt.text(10,15,'$\\\\frac{1}{2}(y_0+\\\\sqrt{2}y_1-y_2),\\\\omega^2=(2-\\\\sqrt{2})\\\\frac{k}{m}$')\n",
    "    plt.text(20,25,'$\\\\frac{1}{2}(y_0-\\\\sqrt{2}y_1-y_2),\\\\omega^2=(2+\\\\sqrt{2})\\\\frac{k}{m}$')\n",
    "\n",
    "    plt.savefig(outputFile)"
   ]
  },
  {
   "cell_type": "code",
   "execution_count": null,
   "metadata": {},
   "outputs": [],
   "source": [
    "pltInit()\n",
    "#plotRaw('CoupledOscillators-raw.pdf')\n",
    "plotNormal('CoupledOscillators-normal.pdf')"
   ]
  }
 ],
 "metadata": {
  "kernelspec": {
   "display_name": "myenv",
   "language": "python",
   "name": "python3"
  },
  "language_info": {
   "codemirror_mode": {
    "name": "ipython",
    "version": 3
   },
   "file_extension": ".py",
   "mimetype": "text/x-python",
   "name": "python",
   "nbconvert_exporter": "python",
   "pygments_lexer": "ipython3",
   "version": "3.10.8 | packaged by conda-forge | (main, Nov 22 2022, 08:16:33) [MSC v.1929 64 bit (AMD64)]"
  },
  "orig_nbformat": 4,
  "vscode": {
   "interpreter": {
    "hash": "b3b804b6b7a7d9b475cf928428dd1242016eacc24c47853aaf0f8d1d2228aa39"
   }
  }
 },
 "nbformat": 4,
 "nbformat_minor": 2
}
